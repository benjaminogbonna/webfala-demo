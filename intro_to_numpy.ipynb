{
 "cells": [
  {
   "cell_type": "markdown",
   "id": "b65316db",
   "metadata": {},
   "source": [
    " # Introduction to Numpy"
   ]
  },
  {
   "cell_type": "markdown",
   "id": "3f4a7dd1",
   "metadata": {},
   "source": [
    "**NumPy, short for Numerical Python, is one of the most important foundational packages for Numerical computing, Data science, ML/AI  in Python. Most computational packages providing scientific functionality uses NumPy under the hood for data exchange. It is a Python library that provides a multidimensional array object, various derived objects (such as masked arrays and matrices), and an assortment of routines for fast operations on arrays, including mathematical, logical, shape manipulation, sorting, selecting, I/O, discrete Fourier transforms, basic linear algebra, basic statistical operations, random simulation and much more**\n",
    "\n",
    "**At the core of the NumPy package, is the ndarray object. This encapsulates n-dimensional arrays of homogeneous data types, with many operations being performed in compiled code for performance. There are several important differences between NumPy arrays and the standard Python sequences:**\n",
    "- NumPy arrays have a fixed size at creation, unlike Python lists (which can grow dynamically). Changing the size of an ndarray will create a new array and delete the original.\n",
    "- The elements in a NumPy array are all required to be of the same data type, and thus will be the same size in memory. The exception: one can have arrays of (Python, including NumPy) objects, thereby allowing for arrays of different sized elements.\n",
    "- NumPy arrays facilitate advanced mathematical and other types of operations on large numbers of data. Typically, such operations are executed more efficiently and with less code than is possible using Python’s built-in sequences.\n",
    "\n",
    "\n",
    "**Here are some of the things you’ll find in NumPy:**\n",
    "- ndarray, an efficient multidimensional array providing fast array-oriented arithmetic operations and flexible broadcasting capabilities.\n",
    "- Mathematical functions for fast operations on entire arrays of data without having to write loops.\n",
    "- Tools for reading/writing array data to disk and working with memory-mapped files.\n",
    "- Linear algebra, random number generation, and Fourier transform capabilities.\n",
    "- A C API for connecting NumPy with libraries written in C, C++, or FORTRAN.\n",
    "\n",
    "\n",
    "## Why is numpy faster\n",
    "**NumPy's speed advantage over standard Python lists stems from several key factors:**\n",
    "1. **Homogeneous Data Types and Contiguous Memory:**\n",
    "    NumPy arrays store elements of the same data type contiguously in memory. This contrasts with Python lists, which store elements as pointers to objects scattered in memory. Contiguous storage allows for efficient access and manipulation of data, leveraging CPU cache optimization and reducing memory access overhead.\n",
    "\n",
    "2. **Vectorized Operations:**\n",
    "    NumPy operations are implemented in C and Fortran, enabling vectorized computations. Instead of looping through individual elements, NumPy can perform operations on entire arrays at once. This significantly reduces the overhead associated with Python loops, pointer indirection, and dynamic type checking.\n",
    "\n",
    "3. **C Implementation:**\n",
    "    Many core NumPy functions are implemented in C, a compiled language. This provides a substantial performance boost compared to Python's interpreted nature, especially for computationally intensive tasks.\n",
    "\n",
    "4. **Memory Efficiency:**\n",
    "    NumPy arrays are more memory-efficient than Python lists due to their homogeneous data types and contiguous storage. This is particularly beneficial when dealing with large datasets, as it minimizes memory consumption and improves performance.\n",
    "\n",
    "5. **Locality of Reference:**\n",
    "    The contiguous memory layout of NumPy arrays promotes locality of reference, meaning that data accessed close together in memory are likely to be accessed again soon. This allows the CPU to efficiently prefetch data, further enhancing performance."
   ]
  },
  {
   "cell_type": "code",
   "execution_count": 7,
   "id": "886aab5d",
   "metadata": {},
   "outputs": [
    {
     "name": "stdout",
     "output_type": "stream",
     "text": [
      "NumPy time: 0.0245 seconds\n",
      "List time: 0.1304 seconds\n",
      "Difference: 0.1059\n"
     ]
    }
   ],
   "source": [
    "# Lets see an example\n",
    "import numpy as np\n",
    "import time\n",
    "\n",
    "# Using NumPy\n",
    "start_time = time.time()\n",
    "a = np.arange(1000000)\n",
    "b = a * 2\n",
    "end_time = time.time()\n",
    "numpy_time = end_time - start_time\n",
    "\n",
    "# Using Python list\n",
    "start_time = time.time()\n",
    "a = list(range(1000000))\n",
    "b = [x * 2 for x in a]\n",
    "end_time = time.time()\n",
    "list_time = end_time - start_time\n",
    "\n",
    "print(f\"NumPy time: {numpy_time:.4f} seconds\")\n",
    "print(f\"List time: {list_time:.4f} seconds\")\n",
    "\n",
    "print(f'Difference: {(list_time-numpy_time):.4f}')"
   ]
  },
  {
   "cell_type": "markdown",
   "id": "8d7538bc",
   "metadata": {},
   "source": [
    "## Who Else Uses NumPy?\n",
    "NumPy fully supports an object-oriented approach, starting, once again, with ndarray. For example, ndarray is a\n",
    "class, possessing numerous methods and attributes. Many of its methods are mirrored by functions in the outermost NumPy namespace, allowing the programmer to code in whichever paradigm they prefer. This flexibility has\n",
    "allowed the NumPy array dialect and NumPy ndarray class to become the de-facto language of multi-dimensional\n",
    "data interchange used in Python.\n",
    "\n",
    "**Having an understanding of NumPy arrays and array-oriented computing will help you use tools with array-oriented semantics, like pandas, much more effectively**"
   ]
  },
  {
   "cell_type": "markdown",
   "id": "96f3f93f",
   "metadata": {},
   "source": [
    "## Installation\n",
    "```python\n",
    "pip install numpy\n",
    "\n",
    "import numpy as np\n",
    "\n",
    "np.__version__\n",
    "```"
   ]
  },
  {
   "cell_type": "markdown",
   "id": "a34bd941",
   "metadata": {},
   "source": [
    "## Prerequisites\n",
    "Before following with this class, you should know a bit of Python. If you would like to refresh your memory, take a look at\n",
    "our Python tutorial."
   ]
  },
  {
   "cell_type": "markdown",
   "id": "d98bb011",
   "metadata": {},
   "source": [
    "**NumPy’s main object is the homogeneous multidimensional array. It is a table of elements (usually numbers), all of\n",
    "the same type, indexed by a tuple of non-negative integers. **\n",
    "\n",
    "\n",
    "**NumPy’s array class is called ndarray.** It is also known by the alias array. Note that numpy.array is not the\n",
    "same as the Standard Python Library class array.array, which only handles one-dimensional arrays and offers\n",
    "less functionality. The more important attributes of an ndarray object are:\n",
    "- **ndarray.ndim** the number of axes (dimensions) of the array.\n",
    "- **ndarray.shape** the dimensions of the array. This is a tuple of integers indicating the size of the array in each dimension. For a matrix with n rows and m columns, shape will be (n,m). The length of the shape tuple is therefore the number of axes, ndim.\n",
    "- **ndarray.size** the total number of elements of the array. This is equal to the product of the elements of shape.\n",
    "- **ndarray.dtype** an object describing the type of the elements in the array. One can create or specify dtype’s using standard Python types. Additionally NumPy provides types of its own. numpy.int32, numpy.int16, and numpy.float64 are some examples.\n",
    "- **ndarray.itemsize** the size in bytes of each element of the array. For example, an array of elements of type float64 has itemsize 8 (=64/8), while one of type complex32 has itemsize 4 (=32/8). It is equivalent to ndarray.dtype.itemsize.\n",
    "- **ndarray.data** the buffer containing the actual elements of the array. Normally, we won’t need to use this attribute because we will access the elements in an array using indexing facilities."
   ]
  },
  {
   "cell_type": "code",
   "execution_count": 11,
   "id": "8d778907",
   "metadata": {},
   "outputs": [
    {
     "data": {
      "text/plain": [
       "array([[ 0,  1,  2,  3,  4],\n",
       "       [ 5,  6,  7,  8,  9],\n",
       "       [10, 11, 12, 13, 14]])"
      ]
     },
     "execution_count": 11,
     "metadata": {},
     "output_type": "execute_result"
    }
   ],
   "source": [
    "# An example\n",
    "import numpy as np\n",
    "    \n",
    "a = np.arange(15).reshape(3, 5)\n",
    "a\n"
   ]
  },
  {
   "cell_type": "code",
   "execution_count": 12,
   "id": "71130378",
   "metadata": {},
   "outputs": [
    {
     "data": {
      "text/plain": [
       "(3, 5)"
      ]
     },
     "execution_count": 12,
     "metadata": {},
     "output_type": "execute_result"
    }
   ],
   "source": [
    "a.shape\n"
   ]
  },
  {
   "cell_type": "code",
   "execution_count": 13,
   "id": "7565f4de",
   "metadata": {},
   "outputs": [
    {
     "data": {
      "text/plain": [
       "2"
      ]
     },
     "execution_count": 13,
     "metadata": {},
     "output_type": "execute_result"
    }
   ],
   "source": [
    "a.ndim"
   ]
  },
  {
   "cell_type": "code",
   "execution_count": 14,
   "id": "fe81746c",
   "metadata": {},
   "outputs": [
    {
     "data": {
      "text/plain": [
       "'int32'"
      ]
     },
     "execution_count": 14,
     "metadata": {},
     "output_type": "execute_result"
    }
   ],
   "source": [
    "a.dtype.name"
   ]
  },
  {
   "cell_type": "code",
   "execution_count": 15,
   "id": "a5379748",
   "metadata": {},
   "outputs": [
    {
     "data": {
      "text/plain": [
       "4"
      ]
     },
     "execution_count": 15,
     "metadata": {},
     "output_type": "execute_result"
    }
   ],
   "source": [
    "a.itemsize"
   ]
  },
  {
   "cell_type": "code",
   "execution_count": 16,
   "id": "69a80f10",
   "metadata": {},
   "outputs": [
    {
     "data": {
      "text/plain": [
       "15"
      ]
     },
     "execution_count": 16,
     "metadata": {},
     "output_type": "execute_result"
    }
   ],
   "source": [
    "a.size"
   ]
  },
  {
   "cell_type": "code",
   "execution_count": 17,
   "id": "975b75e3",
   "metadata": {},
   "outputs": [
    {
     "data": {
      "text/plain": [
       "numpy.ndarray"
      ]
     },
     "execution_count": 17,
     "metadata": {},
     "output_type": "execute_result"
    }
   ],
   "source": [
    "type(a)"
   ]
  },
  {
   "cell_type": "code",
   "execution_count": 18,
   "id": "578fe0cf",
   "metadata": {},
   "outputs": [
    {
     "data": {
      "text/plain": [
       "array([6, 7, 8])"
      ]
     },
     "execution_count": 18,
     "metadata": {},
     "output_type": "execute_result"
    }
   ],
   "source": [
    "b = np.array([6, 7, 8])\n",
    "b"
   ]
  },
  {
   "cell_type": "code",
   "execution_count": 19,
   "id": "f260d8f8",
   "metadata": {},
   "outputs": [
    {
     "data": {
      "text/plain": [
       "numpy.ndarray"
      ]
     },
     "execution_count": 19,
     "metadata": {},
     "output_type": "execute_result"
    }
   ],
   "source": [
    "type(b)"
   ]
  },
  {
   "cell_type": "markdown",
   "id": "c764c187",
   "metadata": {},
   "source": [
    "## Array Creation\n",
    "There are several ways to create arrays. For example, you can create an array from a regular Python list or tuple using the array function. The type of the resulting array is deduced from the type of the elements in the sequences."
   ]
  },
  {
   "cell_type": "code",
   "execution_count": 25,
   "id": "c47e5479",
   "metadata": {},
   "outputs": [
    {
     "data": {
      "text/plain": [
       "array([2, 3, 4])"
      ]
     },
     "execution_count": 25,
     "metadata": {},
     "output_type": "execute_result"
    }
   ],
   "source": [
    "a = np.array([2, 3, 4])\n",
    "a"
   ]
  },
  {
   "cell_type": "code",
   "execution_count": 26,
   "id": "31072c05",
   "metadata": {},
   "outputs": [
    {
     "data": {
      "text/plain": [
       "dtype('int32')"
      ]
     },
     "execution_count": 26,
     "metadata": {},
     "output_type": "execute_result"
    }
   ],
   "source": [
    "a.dtype"
   ]
  },
  {
   "cell_type": "code",
   "execution_count": 27,
   "id": "31ea08d1",
   "metadata": {},
   "outputs": [
    {
     "data": {
      "text/plain": [
       "array([1.2, 3.5, 5.1])"
      ]
     },
     "execution_count": 27,
     "metadata": {},
     "output_type": "execute_result"
    }
   ],
   "source": [
    "b = np.array([1.2, 3.5, 5.1])\n",
    "b"
   ]
  },
  {
   "cell_type": "code",
   "execution_count": 28,
   "id": "55cac153",
   "metadata": {},
   "outputs": [
    {
     "data": {
      "text/plain": [
       "dtype('float64')"
      ]
     },
     "execution_count": 28,
     "metadata": {},
     "output_type": "execute_result"
    }
   ],
   "source": [
    "b.dtype"
   ]
  },
  {
   "cell_type": "code",
   "execution_count": null,
   "id": "49ab862c",
   "metadata": {},
   "outputs": [],
   "source": [
    "# what happens\n",
    "b = np.array([1, 3, '5.1'])"
   ]
  },
  {
   "cell_type": "code",
   "execution_count": 30,
   "id": "0675fa59",
   "metadata": {},
   "outputs": [],
   "source": [
    "# Freuent error\n",
    "\n",
    "a = np.array(1, 2, 3, 4) # WRONG\n",
    "a = np.array([1, 2, 3, 4]) # RIGHT"
   ]
  },
  {
   "cell_type": "markdown",
   "id": "77a8b5cc",
   "metadata": {},
   "source": [
    "### Note\n",
    "**array transforms sequences of sequences into two-dimensional arrays, sequences of sequences of sequences into\n",
    "three-dimensional arrays, and so on.**"
   ]
  },
  {
   "cell_type": "code",
   "execution_count": 31,
   "id": "06edbcaf",
   "metadata": {},
   "outputs": [
    {
     "data": {
      "text/plain": [
       "array([[1.5, 2. , 3. ],\n",
       "       [4. , 5. , 6. ]])"
      ]
     },
     "execution_count": 31,
     "metadata": {},
     "output_type": "execute_result"
    }
   ],
   "source": [
    "b = np.array([(1.5,2,3), (4,5,6)])\n",
    "b"
   ]
  },
  {
   "cell_type": "code",
   "execution_count": 34,
   "id": "d5f7becd",
   "metadata": {},
   "outputs": [
    {
     "data": {
      "text/plain": [
       "array([[[ 1,  2,  3],\n",
       "        [ 4,  5,  6],\n",
       "        [ 7,  8,  9]],\n",
       "\n",
       "       [[10, 11, 12],\n",
       "        [13, 14, 15],\n",
       "        [16, 17, 18]],\n",
       "\n",
       "       [[19, 20, 21],\n",
       "        [22, 23, 24],\n",
       "        [25, 26, 27]]])"
      ]
     },
     "execution_count": 34,
     "metadata": {},
     "output_type": "execute_result"
    }
   ],
   "source": [
    "c = np.array([\n",
    "    [[1, 2, 3], [4, 5, 6], [7, 8, 9]],\n",
    "    [[10, 11, 12,], [13, 14, 15], [16, 17, 18]],\n",
    "    [[19, 20, 21], [22, 23, 24], [25, 26, 27]]\n",
    "])\n",
    "\n",
    "c"
   ]
  },
  {
   "cell_type": "code",
   "execution_count": 35,
   "id": "fa3ce9af",
   "metadata": {},
   "outputs": [
    {
     "data": {
      "text/plain": [
       "3"
      ]
     },
     "execution_count": 35,
     "metadata": {},
     "output_type": "execute_result"
    }
   ],
   "source": [
    "c.ndim"
   ]
  },
  {
   "cell_type": "code",
   "execution_count": 36,
   "id": "76273b2c",
   "metadata": {},
   "outputs": [
    {
     "data": {
      "text/plain": [
       "(3, 3, 3)"
      ]
     },
     "execution_count": 36,
     "metadata": {},
     "output_type": "execute_result"
    }
   ],
   "source": [
    "c.shape\n",
    "\n",
    "# 3 layers, 3 rows in each layer, 3 columns in each row"
   ]
  },
  {
   "cell_type": "markdown",
   "id": "88c36656",
   "metadata": {},
   "source": [
    "**The type of the array can also be explicitly specified at creation time**"
   ]
  },
  {
   "cell_type": "code",
   "execution_count": 38,
   "id": "d4cc63e7",
   "metadata": {},
   "outputs": [
    {
     "data": {
      "text/plain": [
       "array([[1.+0.j, 2.+0.j],\n",
       "       [3.+0.j, 4.+0.j]])"
      ]
     },
     "execution_count": 38,
     "metadata": {},
     "output_type": "execute_result"
    }
   ],
   "source": [
    "a = np.array([[1,2], \n",
    "              [3,4]], \n",
    "             dtype=complex)\n",
    "\n",
    "a"
   ]
  },
  {
   "cell_type": "markdown",
   "id": "5ff484fb",
   "metadata": {},
   "source": [
    "## Indexing, Slicing and Iterating"
   ]
  },
  {
   "cell_type": "code",
   "execution_count": 41,
   "id": "154bcc67",
   "metadata": {},
   "outputs": [
    {
     "data": {
      "text/plain": [
       "array([  0,   1,   8,  27,  64, 125, 216, 343, 512, 729], dtype=int32)"
      ]
     },
     "execution_count": 41,
     "metadata": {},
     "output_type": "execute_result"
    }
   ],
   "source": [
    "a = np.arange(10)**3\n",
    "a"
   ]
  },
  {
   "cell_type": "code",
   "execution_count": 42,
   "id": "f7242d75",
   "metadata": {},
   "outputs": [
    {
     "data": {
      "text/plain": [
       "8"
      ]
     },
     "execution_count": 42,
     "metadata": {},
     "output_type": "execute_result"
    }
   ],
   "source": [
    "a[2]"
   ]
  },
  {
   "cell_type": "code",
   "execution_count": 43,
   "id": "11366029",
   "metadata": {},
   "outputs": [
    {
     "data": {
      "text/plain": [
       "array([ 8, 27, 64], dtype=int32)"
      ]
     },
     "execution_count": 43,
     "metadata": {},
     "output_type": "execute_result"
    }
   ],
   "source": [
    "a[2:5]"
   ]
  },
  {
   "cell_type": "code",
   "execution_count": 44,
   "id": "8d3ad91d",
   "metadata": {},
   "outputs": [
    {
     "data": {
      "text/plain": [
       "array([ 0,  8, 64], dtype=int32)"
      ]
     },
     "execution_count": 44,
     "metadata": {},
     "output_type": "execute_result"
    }
   ],
   "source": [
    "a[:6:2]"
   ]
  },
  {
   "cell_type": "code",
   "execution_count": 45,
   "id": "9debde97",
   "metadata": {},
   "outputs": [
    {
     "data": {
      "text/plain": [
       "array([729, 512, 343, 216, 125,  64,  27,   8,   1,   0], dtype=int32)"
      ]
     },
     "execution_count": 45,
     "metadata": {},
     "output_type": "execute_result"
    }
   ],
   "source": [
    "a[ : :-1]"
   ]
  },
  {
   "cell_type": "code",
   "execution_count": 46,
   "id": "08a6d63f",
   "metadata": {},
   "outputs": [
    {
     "name": "stdout",
     "output_type": "stream",
     "text": [
      "0\n",
      "1\n",
      "8\n",
      "27\n",
      "64\n",
      "125\n",
      "216\n",
      "343\n",
      "512\n",
      "729\n"
     ]
    }
   ],
   "source": [
    "for i in a:\n",
    "    print(i)"
   ]
  },
  {
   "cell_type": "code",
   "execution_count": 48,
   "id": "a56c715e",
   "metadata": {},
   "outputs": [
    {
     "name": "stdout",
     "output_type": "stream",
     "text": [
      "0\n",
      "1\n",
      "64\n",
      "729\n",
      "4096\n",
      "15625\n",
      "46656\n",
      "117649\n",
      "262144\n",
      "531441\n"
     ]
    }
   ],
   "source": [
    "for i in a:\n",
    "    print(i**(2))"
   ]
  },
  {
   "cell_type": "code",
   "execution_count": 50,
   "id": "4f06da01",
   "metadata": {},
   "outputs": [
    {
     "data": {
      "text/plain": [
       "array([[ 1,  2,  3,  4],\n",
       "       [ 5,  6,  7,  8],\n",
       "       [ 9, 10, 11, 12],\n",
       "       [13, 14, 15, 16]])"
      ]
     },
     "execution_count": 50,
     "metadata": {},
     "output_type": "execute_result"
    }
   ],
   "source": [
    "b = np.array([[1, 2, 3, 4],\n",
    "              [5, 6, 7, 8],\n",
    "              [9, 10, 11, 12],\n",
    "              [13, 14, 15, 16]\n",
    "             ])\n",
    "b"
   ]
  },
  {
   "cell_type": "code",
   "execution_count": 51,
   "id": "3e9aa12f",
   "metadata": {},
   "outputs": [
    {
     "data": {
      "text/plain": [
       "array([ 9, 10, 11, 12])"
      ]
     },
     "execution_count": 51,
     "metadata": {},
     "output_type": "execute_result"
    }
   ],
   "source": [
    "b[2]"
   ]
  },
  {
   "cell_type": "code",
   "execution_count": 52,
   "id": "86a3cc34",
   "metadata": {},
   "outputs": [
    {
     "data": {
      "text/plain": [
       "12"
      ]
     },
     "execution_count": 52,
     "metadata": {},
     "output_type": "execute_result"
    }
   ],
   "source": [
    "b[2,3]\n",
    "\n",
    "# tack: give me '15'"
   ]
  },
  {
   "cell_type": "code",
   "execution_count": 62,
   "id": "68f36eb6",
   "metadata": {},
   "outputs": [
    {
     "data": {
      "text/plain": [
       "array([ 2,  6, 10, 14])"
      ]
     },
     "execution_count": 62,
     "metadata": {},
     "output_type": "execute_result"
    }
   ],
   "source": [
    "# second column of b\n",
    "b[0:4, 1] "
   ]
  },
  {
   "cell_type": "code",
   "execution_count": 63,
   "id": "25d9a05f",
   "metadata": {},
   "outputs": [
    {
     "data": {
      "text/plain": [
       "array([ 2,  6, 10, 14])"
      ]
     },
     "execution_count": 63,
     "metadata": {},
     "output_type": "execute_result"
    }
   ],
   "source": [
    "# same thing\n",
    "\n",
    "b[ : ,1]"
   ]
  },
  {
   "cell_type": "code",
   "execution_count": 66,
   "id": "3ccc0934",
   "metadata": {},
   "outputs": [
    {
     "data": {
      "text/plain": [
       "array([[ 5,  6,  7,  8],\n",
       "       [ 9, 10, 11, 12]])"
      ]
     },
     "execution_count": 66,
     "metadata": {},
     "output_type": "execute_result"
    }
   ],
   "source": [
    "# second and third row of b\n",
    "b[1:3, : ]"
   ]
  },
  {
   "cell_type": "code",
   "execution_count": 67,
   "id": "87a7cd08",
   "metadata": {},
   "outputs": [
    {
     "data": {
      "text/plain": [
       "array([13, 14, 15, 16])"
      ]
     },
     "execution_count": 67,
     "metadata": {},
     "output_type": "execute_result"
    }
   ],
   "source": [
    "b[-1]"
   ]
  },
  {
   "cell_type": "code",
   "execution_count": 69,
   "id": "f26e0bba",
   "metadata": {},
   "outputs": [],
   "source": [
    "# task\n",
    "# return the second and third row of b with each element mutiplied by 2"
   ]
  },
  {
   "cell_type": "code",
   "execution_count": null,
   "id": "956863e7",
   "metadata": {},
   "outputs": [],
   "source": [
    "# to continue page 20"
   ]
  }
 ],
 "metadata": {
  "kernelspec": {
   "display_name": "Python 3",
   "language": "python",
   "name": "python3"
  },
  "language_info": {
   "codemirror_mode": {
    "name": "ipython",
    "version": 3
   },
   "file_extension": ".py",
   "mimetype": "text/x-python",
   "name": "python",
   "nbconvert_exporter": "python",
   "pygments_lexer": "ipython3",
   "version": "3.8.8"
  }
 },
 "nbformat": 4,
 "nbformat_minor": 5
}
